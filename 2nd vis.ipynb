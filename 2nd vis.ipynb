{
 "metadata": {
  "language_info": {
   "codemirror_mode": {
    "name": "ipython",
    "version": 3
   },
   "file_extension": ".py",
   "mimetype": "text/x-python",
   "name": "python",
   "nbconvert_exporter": "python",
   "pygments_lexer": "ipython3",
   "version": "3.7.6"
  },
  "orig_nbformat": 2,
  "kernelspec": {
   "name": "python376jvsc74a57bd0b3ba2566441a7c06988d0923437866b63cedc61552a5af99d1f4fb67d367b25f",
   "display_name": "Python 3.7.6 64-bit ('base': conda)"
  }
 },
 "nbformat": 4,
 "nbformat_minor": 2,
 "cells": [
  {
   "cell_type": "code",
   "execution_count": 11,
   "metadata": {},
   "outputs": [
    {
     "output_type": "stream",
     "name": "stderr",
     "text": [
      "C:\\ProgramData\\Anaconda3\\lib\\site-packages\\ipykernel_launcher.py:29: SettingWithCopyWarning: \nA value is trying to be set on a copy of a slice from a DataFrame.\nTry using .loc[row_indexer,col_indexer] = value instead\n\nSee the caveats in the documentation: https://pandas.pydata.org/pandas-docs/stable/user_guide/indexing.html#returning-a-view-versus-a-copy\nC:\\ProgramData\\Anaconda3\\lib\\site-packages\\ipykernel_launcher.py:30: SettingWithCopyWarning: \nA value is trying to be set on a copy of a slice from a DataFrame.\nTry using .loc[row_indexer,col_indexer] = value instead\n\nSee the caveats in the documentation: https://pandas.pydata.org/pandas-docs/stable/user_guide/indexing.html#returning-a-view-versus-a-copy\n"
     ]
    }
   ],
   "source": [
    "import math\n",
    "import pandas as pd\n",
    "import networkx as nx\n",
    "#from pyvis.network import Network\n",
    "import matplotlib.pyplot as plt\n",
    "import seaborn as sns\n",
    "from bokeh.io import output_file, show\n",
    "from bokeh.layouts import gridplot, column,row\n",
    "from bokeh.plotting import figure, show\n",
    "from bokeh.models import ColumnDataSource, Slider, GraphRenderer, Ellipse\n",
    "from bokeh.palettes import Spectral6, Spectral8\n",
    "from bokeh.transform import factor_cmap\n",
    "from scipy.interpolate import interp1d\n",
    "from scipy.ndimage.filters import gaussian_filter1d\n",
    "from scipy import stats\n",
    "from bokeh.io import curdoc\n",
    "from bokeh.resources import CDN\n",
    "from bokeh.embed import components\n",
    "\n",
    "curdoc().theme = 'dark_minimal'\n",
    "\n",
    "df_enron = pd.read_csv('enron-v1.csv')\n",
    "df_enron.sort_values(by=['date'], inplace = True)\n",
    "date = df_enron.groupby(df_enron['date']).count()\n",
    "sentiment = df_enron.groupby(df_enron['date']).mean()\n",
    "df_date = date.reset_index()\n",
    "df_sentiment = sentiment.reset_index()\n",
    "df_range= df_sentiment[['date']]\n",
    "df_range['count'] = df_date['fromId']\n",
    "df_range['senti'] = df_sentiment['sentiment']\n",
    "\n",
    "ranges=df_range['date']\n",
    "\n",
    "source = ColumnDataSource(df_range)\n",
    "tool_list = 'box_select', 'reset', 'wheel_zoom', 'pan', 'hover','tap'\n",
    "\n",
    "TOOLTIPS = [\n",
    "    (\"index\", \"$index\"),\n",
    "    (\"Date\", \"@date\"),\n",
    "    (\"Daily Count\", \"@count\"),\n",
    "]\n",
    "\n",
    "p1 = figure(x_range=ranges, plot_height=300, plot_width=700, toolbar_location='below', \n",
    "            title=\"Frequencey of messages by Date\", tools=tool_list, \n",
    "            active_scroll='wheel_zoom', tooltips=TOOLTIPS)\n",
    "p1.vbar(x='date', top='count', width=0.9, source=source)\n",
    "p1.toolbar.autohide = True\n",
    "p1.xaxis.visible = False\n",
    "\n",
    "TOOLTIPS1 = [\n",
    "    (\"index\", \"$index\"),\n",
    "    (\"Date\", \"@date\"),\n",
    "    (\"Average Sentiment\", \"@senti\"),\n",
    "]\n",
    "\n",
    "p2 = figure(x_range=ranges, plot_height=300, plot_width=700, toolbar_location='below', \n",
    "            title=\" Average Sentiment by Date\", tools=tool_list, tooltips=TOOLTIPS1,\n",
    "            active_scroll='wheel_zoom')\n",
    "p2.vbar(x='date', top='senti', width=0.9, source=source, color=\"orange\")\n",
    "p2.toolbar.autohide = True\n",
    "p2.xaxis.visible = False\n",
    "\n",
    "p1.xgrid.grid_line_color = None\n",
    "p1.y_range.start = 0\n",
    "p1.y_range.end = 200\n",
    "p2.xgrid.grid_line_color = None\n",
    "\n",
    "plot_f = column(p1, p2)\n",
    "show(plot_f)"
   ]
  }
 ]
}